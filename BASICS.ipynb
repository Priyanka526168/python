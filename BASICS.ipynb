{
 "cells": [
  {
   "cell_type": "markdown",
   "metadata": {},
   "source": [
    "#### Q1"
   ]
  },
  {
   "cell_type": "code",
   "execution_count": null,
   "metadata": {},
   "outputs": [],
   "source": [
    "s=input(\"Enter a string: \")\n",
    "s=s[0::2]\n",
    "print(\"Characters present at even indices:\",s)"
   ]
  },
  {
   "cell_type": "markdown",
   "metadata": {},
   "source": [
    "#### Q2"
   ]
  },
  {
   "cell_type": "code",
   "execution_count": null,
   "metadata": {},
   "outputs": [],
   "source": [
    "l=[]\n",
    "n=int(input(\"Enter the number of elements in the list: \"))\n",
    "print(\"Enter\",n,\"elements: \")\n",
    "for i in range(0,n):\n",
    "    a=int(input())\n",
    "    l.append(a)\n",
    "sum=0;\n",
    "for ele in l[1::2]:\n",
    "    sum+=ele\n",
    "print(\"Sum of elements at odd indices:\",sum)"
   ]
  },
  {
   "cell_type": "markdown",
   "metadata": {},
   "source": [
    "#### Q3"
   ]
  },
  {
   "cell_type": "code",
   "execution_count": null,
   "metadata": {},
   "outputs": [],
   "source": [
    "l=[15,47,68,89,35,13]\n",
    "\n",
    "for i in range(1,len(l)):\n",
    "    key=l[i]\n",
    "    j=i-1\n",
    "    while j>=0 and key<l[j]:\n",
    "        l[j+1]=l[j]\n",
    "        j=j-1\n",
    "    l[j+1]=key\n",
    "    \n",
    "print(l)"
   ]
  },
  {
   "cell_type": "markdown",
   "metadata": {},
   "source": [
    "#### Q4"
   ]
  },
  {
   "cell_type": "code",
   "execution_count": null,
   "metadata": {},
   "outputs": [],
   "source": [
    "n=int(input(\"Enter a number: \"))\n",
    "for i in range (1,n+1):\n",
    "    for j in range(1,i+1):\n",
    "        print(j,end='')\n",
    "    print(\"\\n\")"
   ]
  },
  {
   "cell_type": "markdown",
   "metadata": {},
   "source": [
    "#### Q5"
   ]
  },
  {
   "cell_type": "code",
   "execution_count": null,
   "metadata": {},
   "outputs": [],
   "source": [
    "n=int(input(\"Enter a number: \"))\n",
    "t=n\n",
    "s=0;\n",
    "while(n>0):\n",
    "    e=n%10\n",
    "    s=(s*10)+e\n",
    "    n=n//10\n",
    "if s==t:\n",
    "    print(\"Number is palindrome!\")\n",
    "else:\n",
    "    print(\"Number is not palindrome!\")"
   ]
  },
  {
   "cell_type": "markdown",
   "metadata": {},
   "source": [
    "#### Q6"
   ]
  },
  {
   "cell_type": "code",
   "execution_count": null,
   "metadata": {},
   "outputs": [],
   "source": [
    "l1=[]\n",
    "l2=[]\n",
    "a=[]\n",
    "n=int(input(\"Enter no. of elements in first list: \"))\n",
    "print(\"Enter\",n,\"numbers: \")\n",
    "for i in range(0,n):\n",
    "    t=int(input())\n",
    "    l1.append(t)\n",
    "m=int(input(\"Enter no. of elements in second list: \"))\n",
    "print(\"Enter\",m,\"elements: \")\n",
    "for i in range(0,m):\n",
    "    t=int(input())\n",
    "    l2.append(t)\n",
    "for ele in l1:\n",
    "    if ele%2!=0:\n",
    "        a.append(ele)\n",
    "for ele in l2:\n",
    "    if ele%2==0:\n",
    "        a.append(ele)\n",
    "print(\"Required list:\",a)"
   ]
  },
  {
   "cell_type": "markdown",
   "metadata": {},
   "source": [
    "#### Q7"
   ]
  },
  {
   "cell_type": "code",
   "execution_count": null,
   "metadata": {},
   "outputs": [],
   "source": [
    "def exponent(base,exp):\n",
    "    if(exp<=1):\n",
    "        return base\n",
    "    else:\n",
    "        return base*exponent(base,exp-1)\n",
    "\n",
    "n=int(input(\"Enter base number: \"))\n",
    "p=int(input(\"Enter power: \"))\n",
    "print(n,\"raised to the power\",p,\"is:\",exponent(n,p))"
   ]
  },
  {
   "cell_type": "markdown",
   "metadata": {},
   "source": [
    "#### Q8"
   ]
  },
  {
   "cell_type": "code",
   "execution_count": null,
   "metadata": {},
   "outputs": [],
   "source": [
    "def digits(n):\n",
    "    if(n<=0):\n",
    "        return 0\n",
    "    else:\n",
    "        return 1+digits(n//10)\n",
    "    \n",
    "m=int(input(\"Enter a number: \"))\n",
    "print(\"Number of digits:\",digits(m))"
   ]
  },
  {
   "cell_type": "markdown",
   "metadata": {},
   "source": [
    "#### Q9"
   ]
  },
  {
   "cell_type": "code",
   "execution_count": null,
   "metadata": {},
   "outputs": [],
   "source": [
    "s=\"The red bag has 10 red pens\"\n",
    "print(s.replace(\"red\",\"blue\"))"
   ]
  },
  {
   "cell_type": "markdown",
   "metadata": {},
   "source": [
    "#### Q10"
   ]
  },
  {
   "cell_type": "code",
   "execution_count": null,
   "metadata": {},
   "outputs": [],
   "source": [
    "c=int(input(\"Enter for first series, 2 for second: \"))\n",
    "n=int(input(\"Enter a number: \"))\n",
    "if c==1:\n",
    "    a=int(input(\"Enter a number: \"))\n",
    "    s=0\n",
    "    for i in range(1,n+1):\n",
    "        s=s+((pow(a,i))/i)\n",
    "    print(\"Sum of series:\",s)\n",
    "    \n",
    "elif c==2:\n",
    "    s=0\n",
    "    t=1\n",
    "    f=1\n",
    "    for i in range(2,n+1):\n",
    "        t+=i\n",
    "        f*=i\n",
    "        s+=(t/f)\n",
    "    print(\"Sum of series:\",s)\n",
    "    \n",
    "else:\n",
    "    print(\"Wrong choice!\")"
   ]
  },
  {
   "cell_type": "markdown",
   "metadata": {},
   "source": [
    "#### Q11"
   ]
  },
  {
   "cell_type": "code",
   "execution_count": null,
   "metadata": {},
   "outputs": [],
   "source": [
    "s=input(\"Enter a string: \")\n",
    "freq={}\n",
    "for ch in s:\n",
    "    if ch in freq:\n",
    "        freq[ch]+=1\n",
    "    else:\n",
    "        freq[ch]=1\n",
    "\n",
    "print(\"No. of occurences of each character: \",freq)"
   ]
  },
  {
   "cell_type": "markdown",
   "metadata": {},
   "source": [
    "#### Q12"
   ]
  },
  {
   "cell_type": "code",
   "execution_count": null,
   "metadata": {},
   "outputs": [],
   "source": [
    "s=input(\"Enter a string: \")\n",
    "for ch in s:\n",
    "    c=ord(ch)\n",
    "    if (c>=48 and c<=57):\n",
    "        continue\n",
    "    elif(c>=65 and c<=90):\n",
    "        continue\n",
    "    elif(c>=97 and c<=122):\n",
    "        continue\n",
    "    else:\n",
    "        s=s.replace(ch,\" \")\n",
    "\n",
    "s=\" \".join(s.split())\n",
    "print(s)"
   ]
  },
  {
   "cell_type": "markdown",
   "metadata": {},
   "source": [
    "#### Q13"
   ]
  },
  {
   "cell_type": "code",
   "execution_count": null,
   "metadata": {},
   "outputs": [],
   "source": [
    "s=input(\"Enter a string of words seperated by hyphens\")\n",
    "l=list(s.split(\"-\"))\n",
    "for ele in l:\n",
    "    print(ele)"
   ]
  },
  {
   "cell_type": "markdown",
   "metadata": {},
   "source": [
    "#### Q14"
   ]
  },
  {
   "cell_type": "code",
   "execution_count": null,
   "metadata": {},
   "outputs": [],
   "source": [
    "s1=input(\"Enter a string: \")\n",
    "s2=input(\"Enter another string: \")\n",
    "l1=len(s1)\n",
    "l2=len(s2)\n",
    "o=\"\"\n",
    "o+=s1[0]+s2[0]\n",
    "l1=l1//2\n",
    "l2=l2//2\n",
    "o+=s1[l1]+s2[l2]\n",
    "o+=s1[-1]+s2[-1]\n",
    "print(o)"
   ]
  },
  {
   "cell_type": "markdown",
   "metadata": {},
   "source": [
    "#### Q15"
   ]
  },
  {
   "cell_type": "code",
   "execution_count": null,
   "metadata": {},
   "outputs": [],
   "source": [
    "dict1={\n",
    "    \"name\":\"Arman\",\n",
    "    \"age\":21,\n",
    "    \"salary\":80000,\n",
    "    \"city\":\"Ranchi\",\n",
    "    \"country\":\"India\"\n",
    "}\n",
    "print(dict1)\n",
    "\n",
    "dict2={key:dict1[key] for key in dict1.keys()& {\"name\",\"salary\"}}\n",
    "print(dict2)\n",
    "\n",
    "dict1.pop(\"age\")\n",
    "dict1.pop(\"country\")\n",
    "print(dict1)\n",
    "\n",
    "dict1[\"location\"]=dict1.pop(\"city\")\n",
    "print(dict1)"
   ]
  },
  {
   "cell_type": "markdown",
   "metadata": {},
   "source": [
    "#### Q16"
   ]
  },
  {
   "cell_type": "code",
   "execution_count": null,
   "metadata": {},
   "outputs": [],
   "source": [
    "T=(10,20,30,40,50)\n",
    "T=T[::-1]\n",
    "print(T)"
   ]
  },
  {
   "cell_type": "markdown",
   "metadata": {},
   "source": [
    "#### Q17"
   ]
  },
  {
   "cell_type": "code",
   "execution_count": null,
   "metadata": {},
   "outputs": [],
   "source": [
    "T=(11,[22,33],44,55)\n",
    "T[1][0]=222\n",
    "print(T)"
   ]
  },
  {
   "cell_type": "markdown",
   "metadata": {},
   "source": [
    "#### Q18"
   ]
  },
  {
   "cell_type": "code",
   "execution_count": null,
   "metadata": {},
   "outputs": [],
   "source": [
    "t=('a','b','c','a','e','a','b','e','o')\n",
    "freq={}\n",
    "for ch in t:\n",
    "    if ch in freq:\n",
    "        freq[ch]+=1\n",
    "    else:\n",
    "        freq[ch]=1\n",
    "\n",
    "print(\"No. of occurences of each character: \",freq)"
   ]
  },
  {
   "cell_type": "markdown",
   "metadata": {},
   "source": [
    "#### Q19"
   ]
  },
  {
   "cell_type": "code",
   "execution_count": null,
   "metadata": {},
   "outputs": [],
   "source": [
    "set1={10, 20, 30, 40, 50}\n",
    "set2 = {30, 40, 50, 60, 70}\n",
    "o=set1 & set2\n",
    "print(o)"
   ]
  },
  {
   "cell_type": "markdown",
   "metadata": {},
   "source": [
    "#### Q20"
   ]
  },
  {
   "cell_type": "code",
   "execution_count": null,
   "metadata": {},
   "outputs": [],
   "source": [
    "set1 = {10, 20, 30, 40, 50}\n",
    "set2={10,20,30}\n",
    "set1=set1-set2\n",
    "print(set1)"
   ]
  },
  {
   "cell_type": "markdown",
   "metadata": {},
   "source": [
    "#### Q21"
   ]
  },
  {
   "cell_type": "code",
   "execution_count": null,
   "metadata": {},
   "outputs": [],
   "source": [
    "set1={10, 20, 30, 40, 50}\n",
    "set2 = {30, 40, 50, 60, 70}\n",
    "u=set1|set2\n",
    "i=set1&set2\n",
    "o=u-i\n",
    "print(o)"
   ]
  },
  {
   "cell_type": "markdown",
   "metadata": {},
   "source": [
    "#### Q22"
   ]
  },
  {
   "cell_type": "code",
   "execution_count": null,
   "metadata": {},
   "outputs": [],
   "source": [
    "li=[87,45,41,65,94,41,99,94]\n",
    "s={0}\n",
    "s.discard(0)\n",
    "for ele in li:\n",
    "    s.add(ele)\n",
    "li=list(s)\n",
    "print(\"Unique elements:\",li)\n",
    "t=tuple(li)\n",
    "print(\"Tuple:\",t)\n",
    "min=t[0]\n",
    "max=t[0]\n",
    "for ele in t:\n",
    "    if ele>max:\n",
    "        max=ele\n",
    "    elif ele<min:\n",
    "        min=ele\n",
    "    else:\n",
    "        continue\n",
    "print(\"min:\",min)\n",
    "print(\"max:\",max)"
   ]
  },
  {
   "cell_type": "markdown",
   "metadata": {},
   "source": [
    "#### Q23"
   ]
  },
  {
   "cell_type": "code",
   "execution_count": null,
   "metadata": {},
   "outputs": [],
   "source": [
    "l1=[2,3,4,5,6,7,8]\n",
    "l2=[4,9,16,25,36,49,64]\n",
    "l=len(l1)\n",
    "s={0}\n",
    "s.discard(0)\n",
    "for i in range(l):\n",
    "    s.add((l1[i],l2[i]))\n",
    "    \n",
    "print(s)"
   ]
  },
  {
   "cell_type": "markdown",
   "metadata": {},
   "source": [
    "#### Q24"
   ]
  },
  {
   "cell_type": "code",
   "execution_count": null,
   "metadata": {},
   "outputs": [],
   "source": [
    "def convert(n):\n",
    "    if n==1:\n",
    "        print(\"1\",end=\"\")\n",
    "        return\n",
    "    if n>1:\n",
    "        convert(n// 2)\n",
    "    print(n%2,end=\"\")\n",
    "    \n",
    "t=int(input(\"Enter a number: \"))\n",
    "print(\"Binary equivalent of\",t,\"is:\")\n",
    "convert(t)"
   ]
  },
  {
   "cell_type": "markdown",
   "metadata": {},
   "source": [
    "#### Q25"
   ]
  },
  {
   "cell_type": "code",
   "execution_count": null,
   "metadata": {},
   "outputs": [],
   "source": [
    "import random\n",
    "r=random.randint(10, 99)\n",
    "n=int(input(\"Enter a two-digit number: \"))\n",
    "d1=r%10\n",
    "d2=r//10\n",
    "d3=n%10\n",
    "d4=n//10\n",
    "if r==n:\n",
    "    s=\"You win 10,000!\"\n",
    "elif (d1==d4 and d2==d3):\n",
    "    s=\"You win 3,000!\"\n",
    "elif (d1==d3 or d1==d4 or d2==d3 or d2==d4):\n",
    "    s=\"You win 1,000!\"\n",
    "else:\n",
    "    s=\"You lose!\"\n",
    "    \n",
    "print(\"Number on lottery:\",r)\n",
    "print(\"Your number\",n)\n",
    "print(s)"
   ]
  },
  {
   "cell_type": "code",
   "execution_count": null,
   "metadata": {},
   "outputs": [],
   "source": []
  }
 ],
 "metadata": {
  "kernelspec": {
   "display_name": "Python 3",
   "language": "python",
   "name": "python3"
  },
  "language_info": {
   "codemirror_mode": {
    "name": "ipython",
    "version": 3
   },
   "file_extension": ".py",
   "mimetype": "text/x-python",
   "name": "python",
   "nbconvert_exporter": "python",
   "pygments_lexer": "ipython3",
   "version": "3.6.9"
  }
 },
 "nbformat": 4,
 "nbformat_minor": 2
}
